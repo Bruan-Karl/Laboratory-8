{
  "nbformat": 4,
  "nbformat_minor": 0,
  "metadata": {
    "colab": {
      "name": "201911167_LinAlg_Lab8",
      "provenance": [],
      "collapsed_sections": [],
      "authorship_tag": "ABX9TyNmscmWl3ZMEyYNGiF8NOPE",
      "include_colab_link": true
    },
    "kernelspec": {
      "name": "python3",
      "display_name": "Python 3"
    },
    "language_info": {
      "name": "python"
    }
  },
  "cells": [
    {
      "cell_type": "markdown",
      "metadata": {
        "id": "view-in-github",
        "colab_type": "text"
      },
      "source": [
        "<a href=\"https://colab.research.google.com/github/R0ckie/Laboratory-8/blob/main/201911167_LinAlg_Lab8.ipynb\" target=\"_parent\"><img src=\"https://colab.research.google.com/assets/colab-badge.svg\" alt=\"Open In Colab\"/></a>"
      ]
    },
    {
      "cell_type": "markdown",
      "metadata": {
        "id": "L92-A0Q011m3"
      },
      "source": [
        "\n",
        "$$\n",
        "L = \\left\\{\n",
        "    \\begin{array}\\\\\n",
        "        5yx+5y+5z = 25\\\\ \n",
        "        3x -3y -3z = 21 \\\\\n",
        "        15x - 15y + 2z= -35\n",
        "    \\end{array}\n",
        "\\right. $$"
      ]
    },
    {
      "cell_type": "markdown",
      "metadata": {
        "id": "ObGiTQW-12fj"
      },
      "source": [
        "$$\n",
        "\\begin{bmatrix}5&5&5\\\\3&-3&-3\\\\15&-15&2\\end{bmatrix} \\cdot \\begin{bmatrix}x\\\\ y\\\\ z\\end{bmatrix} = \\begin{bmatrix}25\\\\21\\\\-35\\end{bmatrix}\n",
        "$$"
      ]
    },
    {
      "cell_type": "code",
      "metadata": {
        "id": "rBizRBaz1eeZ"
      },
      "source": [
        "import numpy as np\n",
        "import matplotlib.pyplot as plt\n",
        "%matplotlib inline"
      ],
      "execution_count": null,
      "outputs": []
    },
    {
      "cell_type": "code",
      "metadata": {
        "colab": {
          "base_uri": "https://localhost:8080/"
        },
        "id": "GjaE4SMM1thv",
        "outputId": "45750104-a99f-4efd-dff4-c22c009dbc79"
      },
      "source": [
        "K = np.array([[5,5,5],\n",
        "              [3, -3, -3],\n",
        "              [15, 15, 2]\n",
        "              ], dtype= float)\n",
        "L = np.array([\n",
        "               [25],\n",
        "               [21],\n",
        "               [-35]\n",
        "            ], dtype= float)\n",
        "\n",
        "K_inv = np.linalg.inv(K)\n",
        "B = K_inv @ L\n",
        "\n",
        "print(\"Matrix K: \\n\", K ,\n",
        "      \"\\n Matrix L: \\n\" ,L ,\n",
        "      \"\\n Answer using inverse: \\n \" , np.around(B,2)\n",
        "      )\n",
        "\n",
        "K_solve = np.around(np.linalg.solve(K,L), 2)\n",
        "\n",
        "print(\"Answer using linalg.solve: \\n\" ,K_solve)"
      ],
      "execution_count": null,
      "outputs": [
        {
          "output_type": "stream",
          "text": [
            "Matrix K: \n",
            " [[ 5.  5.  5.]\n",
            " [ 3. -3. -3.]\n",
            " [15. 15.  2.]] \n",
            " Matrix L: \n",
            " [[ 25.]\n",
            " [ 21.]\n",
            " [-35.]] \n",
            " Answer using inverse: \n",
            "  [[ 6.  ]\n",
            " [-9.46]\n",
            " [ 8.46]]\n",
            "Answer using linalg.solve: \n",
            " [[ 6.  ]\n",
            " [-9.46]\n",
            " [ 8.46]]\n"
          ],
          "name": "stdout"
        }
      ]
    }
  ]
}